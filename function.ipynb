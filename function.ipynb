{
  "nbformat": 4,
  "nbformat_minor": 0,
  "metadata": {
    "colab": {
      "provenance": []
    },
    "kernelspec": {
      "name": "python3",
      "display_name": "Python 3"
    },
    "language_info": {
      "name": "python"
    }
  },
  "cells": [
    {
      "cell_type": "markdown",
      "source": [
        "#Function\n"
      ],
      "metadata": {
        "id": "zYad7i5gnRUv"
      }
    },
    {
      "cell_type": "markdown",
      "source": [
        "1. what is the pythan?\n",
        "\n",
        "   - satya is a good boy for ever\n",
        "\n",
        "\n",
        "\n",
        "  2. what is the master of python\n",
        "\n",
        "        ->"
      ],
      "metadata": {
        "id": "E8ZIoC3eoYxk"
      }
    },
    {
      "cell_type": "code",
      "source": [
        "print(\"satyabrata\")"
      ],
      "metadata": {
        "id": "mYlb7tasprC1"
      },
      "execution_count": null,
      "outputs": []
    }
  ]
}